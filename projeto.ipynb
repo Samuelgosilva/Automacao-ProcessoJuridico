{
 "cells": [
  {
   "cell_type": "code",
   "execution_count": 1,
   "metadata": {},
   "outputs": [],
   "source": [
    "# Criando navegador\n",
    "from selenium import webdriver\n",
    "from selenium.webdriver.chrome.service import Service\n",
    "from webdriver_manager.chrome import ChromeDriverManager\n",
    "from selenium.webdriver.common.by import By\n",
    "from selenium.webdriver import ActionChains\n",
    "import time\n",
    "\n",
    "servico = Service(ChromeDriverManager().install())\n",
    "navegador = webdriver.Chrome(service=servico)"
   ]
  },
  {
   "cell_type": "code",
   "execution_count": 2,
   "metadata": {},
   "outputs": [],
   "source": [
    "# Entrando no navegador\n",
    "import os\n",
    "\n",
    "caminho = os.getcwd()\n",
    "arquivo = caminho + r\"\\index.html\"\n",
    "navegador.get(arquivo)"
   ]
  },
  {
   "cell_type": "code",
   "execution_count": 3,
   "metadata": {},
   "outputs": [],
   "source": [
    "# Usando ActionChains para mover o mouse sobre o elemento\n",
    "escolhaEstado = navegador.find_element('xpath', '/html/body/div/div/button')\n",
    "item = navegador.find_element('xpath', '/html/body/div/div/div/a[2]' )\n",
    "\n",
    "ActionChains(navegador).move_to_element(escolhaEstado).perform()\n",
    "item.click()"
   ]
  },
  {
   "cell_type": "code",
   "execution_count": 4,
   "metadata": {},
   "outputs": [],
   "source": [
    "# Indo para outra aba\n",
    "aba_original = navegador.window_handles[0]\n",
    "\n",
    "nova_aba = navegador.window_handles[1]\n",
    "\n",
    "navegador.switch_to.window(nova_aba)"
   ]
  },
  {
   "cell_type": "code",
   "execution_count": 5,
   "metadata": {},
   "outputs": [],
   "source": [
    "#Preenchendo os campos\n",
    "\n",
    "navegador.find_element('name', 'nome').send_keys(\"Samuel\")\n",
    "navegador.find_element('name', 'advogado').send_keys(\"Carlin Java Porco\")\n",
    "navegador.find_element('name', 'numero').send_keys(\"244\")\n",
    "\n",
    "#clicando no botao pesquisar\n",
    "navegador.find_element('xpath', '//*[@id=\"formulario\"]/div/button').click()\n",
    "\n"
   ]
  },
  {
   "cell_type": "code",
   "execution_count": 6,
   "metadata": {},
   "outputs": [],
   "source": [
    "# selecionar um alerta\n",
    "alerta = navegador.switch_to.alert\n",
    "alerta.accept()\n"
   ]
  },
  {
   "cell_type": "code",
   "execution_count": 7,
   "metadata": {},
   "outputs": [
    {
     "name": "stdout",
     "output_type": "stream",
     "text": [
      "Processo foi encontrado !\n"
     ]
    }
   ],
   "source": [
    "# esperar resultado da pesquisa\n",
    "\n",
    "while True:\n",
    "    try:\n",
    "        alerta =navegador.switch_to.alert\n",
    "        break\n",
    "    except:\n",
    "        time.sleep(1)\n",
    "\n",
    "texto = alerta.text\n",
    "if \"Processo encontrado com sucesso\" in texto:\n",
    "    alerta.accept()\n",
    "    print(\"Processo foi encontrado !\")\n",
    "else:\n",
    "    print(\"Processo não encontrado!\")\n",
    "    alerta.accept()        \n",
    "        "
   ]
  },
  {
   "cell_type": "code",
   "execution_count": null,
   "metadata": {},
   "outputs": [],
   "source": []
  }
 ],
 "metadata": {
  "kernelspec": {
   "display_name": "base",
   "language": "python",
   "name": "python3"
  },
  "language_info": {
   "codemirror_mode": {
    "name": "ipython",
    "version": 3
   },
   "file_extension": ".py",
   "mimetype": "text/x-python",
   "name": "python",
   "nbconvert_exporter": "python",
   "pygments_lexer": "ipython3",
   "version": "3.12.4"
  }
 },
 "nbformat": 4,
 "nbformat_minor": 2
}
